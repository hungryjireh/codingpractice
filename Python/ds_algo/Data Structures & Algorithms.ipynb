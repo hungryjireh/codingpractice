{
 "cells": [
  {
   "cell_type": "markdown",
   "metadata": {},
   "source": [
    "# Data Structures"
   ]
  },
  {
   "cell_type": "markdown",
   "metadata": {},
   "source": [
    "## Reverse a string"
   ]
  },
  {
   "cell_type": "code",
   "execution_count": 13,
   "metadata": {},
   "outputs": [
    {
     "name": "stdout",
     "output_type": "stream",
     "text": [
      "1\n",
      "1\n"
     ]
    }
   ],
   "source": [
    "# O(n) method\n",
    "def slow_reverse_string(input_string):\n",
    "    input_string = str(input_string)\n",
    "    reverse_str_list = []\n",
    "    for i in range(len(input_string) - 1, -1, -1):\n",
    "        reverse_str_list.append(input_string[i])\n",
    "    return \"\".join(reverse_str_list)\n",
    "\n",
    "# Fast method\n",
    "def reverse_string(input_string):\n",
    "    # creates a copy of string, reverses it and returns \n",
    "    return str(input_string)[::-1]\n",
    "\n",
    "print(slow_reverse_string(1))\n",
    "print(reverse_string(1))"
   ]
  },
  {
   "cell_type": "markdown",
   "metadata": {},
   "source": [
    "## Merge and sort arrays"
   ]
  },
  {
   "cell_type": "code",
   "execution_count": 33,
   "metadata": {},
   "outputs": [
    {
     "name": "stdout",
     "output_type": "stream",
     "text": [
      "[0, 3, 4, 4, 6, 30, 31]\n",
      "[0, 1, 2]\n"
     ]
    }
   ],
   "source": [
    "# Assuming that both arrays are already sorted, we can use a double pointer method to return\n",
    "# a solution that is O(n + m)\n",
    "def merge_sorted_arrays(arr1, arr2):\n",
    "    combined_arr = []\n",
    "    pointer_1 = 0\n",
    "    pointer_2 = 0\n",
    "    if len(arr1) == 0 and len(arr2) == 0:\n",
    "        return combined_arr\n",
    "    else:\n",
    "        while len(combined_arr) < len(arr1) + len(arr2):\n",
    "            if pointer_1 >= len(arr1):\n",
    "                combined_arr.extend(arr2[pointer_2:])\n",
    "            elif pointer_2 >= len(arr2):\n",
    "                combined_arr.extend(arr1[pointer_1:])\n",
    "            else:\n",
    "                if arr1[pointer_1] <= arr2[pointer_2]:\n",
    "                    combined_arr.append(arr1[pointer_1])\n",
    "                    pointer_1 += 1\n",
    "                else:\n",
    "                    combined_arr.append(arr2[pointer_2])\n",
    "                    pointer_2 += 1\n",
    "    return combined_arr\n",
    "\n",
    "print(merge_sorted_arrays([4, 6, 30], [0, 3, 4, 31]))\n",
    "print(merge_sorted_arrays([0, 1, 2], []))"
   ]
  },
  {
   "cell_type": "markdown",
   "metadata": {},
   "source": [
    "## First recurring character"
   ]
  },
  {
   "cell_type": "code",
   "execution_count": 35,
   "metadata": {},
   "outputs": [
    {
     "name": "stdout",
     "output_type": "stream",
     "text": [
      "1\n"
     ]
    }
   ],
   "source": [
    "array_1 = [2, 5, 1, 2, 3, 5, 1, 2, 4]\n",
    "array_2 = [2, 1, 1, 2, 3, 5, 1, 2, 4]\n",
    "\n",
    "def first_recurring_character(input_array):\n",
    "    array_tracker = {}\n",
    "    for item in input_array:\n",
    "        if item in array_tracker:\n",
    "            return item\n",
    "        else:\n",
    "            array_tracker[item] = True\n",
    "    return False\n",
    "\n",
    "print(first_recurring_character(array_2))"
   ]
  },
  {
   "cell_type": "markdown",
   "metadata": {},
   "source": [
    "## Linked List"
   ]
  },
  {
   "cell_type": "code",
   "execution_count": 219,
   "metadata": {},
   "outputs": [
    {
     "name": "stdout",
     "output_type": "stream",
     "text": [
      "[200, 10, 10, 5, 15, 200]\n",
      "[200, 15, 5, 10, 10, 200]\n"
     ]
    }
   ],
   "source": [
    "class Node:\n",
    "    def __init__(self, value):\n",
    "        self.value = value\n",
    "        self.next_node = None\n",
    "    \n",
    "    def __repr__(self):\n",
    "        return str(self.value)\n",
    "\n",
    "class LinkedList:\n",
    "    def __init__(self, value):\n",
    "        first_node = Node(value)\n",
    "        self.head = first_node\n",
    "        self.tail = first_node\n",
    "        self.length = 1\n",
    "    \n",
    "    def append(self, value):\n",
    "        new_node = Node(value)\n",
    "        current_node = self.head\n",
    "        previous_node = None\n",
    "        for i in range(self.length - 1):\n",
    "            previous_node = current_node\n",
    "            current_node = current_node.next_node\n",
    "        current_node.next_node = new_node\n",
    "        self.tail = new_node\n",
    "        self.length += 1\n",
    "    \n",
    "    def prepend(self, value):\n",
    "        new_node = Node(value)\n",
    "        new_node.next_node = self.head\n",
    "        self.head = new_node\n",
    "        self.length += 1\n",
    "        \n",
    "    def insert(self, index, value):\n",
    "        if index <= 0:\n",
    "            self.prepend(value)         \n",
    "        elif index >= self.length:\n",
    "            self.append(value)\n",
    "        else:\n",
    "            current_node = self.head\n",
    "            previous_node = None\n",
    "            new_node = Node(value)\n",
    "            for i in range(index):\n",
    "                print(self.head)\n",
    "                previous_node = current_node\n",
    "                current_node = current_node.next_node\n",
    "            new_node.next_node = current_node\n",
    "            previous_node.next_node = new_node\n",
    "            self.length += 1\n",
    "            \n",
    "    def delete(self, index):\n",
    "        self.length -= 1\n",
    "        if index <= 0:\n",
    "            self.head = self.head.next_node            \n",
    "        else:\n",
    "            current_node = self.head\n",
    "            previous_node = None\n",
    "            if index >= self.length:\n",
    "                index = self.length - 1\n",
    "                for i in range(index):\n",
    "                    previous_node = current_node\n",
    "                    current_node = current_node.next_node\n",
    "                previous_node.next_node = None\n",
    "            else:\n",
    "                for i in range(index):\n",
    "                    previous_node = current_node\n",
    "                    current_node = current_node.next_node\n",
    "                previous_node.next_node = current_node.next_node\n",
    "    \n",
    "    # TODO: Reverse a linked list\n",
    "    def reverse(self):\n",
    "        return self\n",
    "        \n",
    "    def __repr__(self):\n",
    "        linked_list = []\n",
    "        current_node = self.head\n",
    "        while current_node != None:\n",
    "            linked_list.append(current_node.value)\n",
    "            current_node = current_node.next_node\n",
    "        return str(linked_list)\n",
    "        \n",
    "linked_list = LinkedList(5)\n",
    "linked_list.append(10)\n",
    "linked_list.prepend(15)\n",
    "linked_list.insert(0, 200)\n",
    "linked_list.append(10)\n",
    "linked_list.insert(50, 200)\n",
    "print(linked_list.reverse())\n",
    "print(linked_list)"
   ]
  },
  {
   "cell_type": "markdown",
   "metadata": {},
   "source": [
    "## Doubly-Linked List"
   ]
  },
  {
   "cell_type": "code",
   "execution_count": 217,
   "metadata": {},
   "outputs": [
    {
     "name": "stdout",
     "output_type": "stream",
     "text": [
      "500\n",
      "[500, 250, 400, 5, 200, 400]\n",
      "400\n"
     ]
    }
   ],
   "source": [
    "class DoublyLinkedListNode:\n",
    "    def __init__(self, value, previous_node):\n",
    "        self.value = value\n",
    "        self.previous_node = previous_node\n",
    "        self.next_node = None\n",
    "    \n",
    "    def __repr__(self):\n",
    "        return str(self.value)\n",
    "    \n",
    "class DoublyLinkedList:\n",
    "    def __init__(self, value):\n",
    "        first_node = DoublyLinkedListNode(value, None)\n",
    "        self.head = first_node\n",
    "        self.tail = first_node\n",
    "        self.length = 1\n",
    "\n",
    "    def append(self, value):\n",
    "        current_node = self.tail\n",
    "        new_node = DoublyLinkedListNode(value, current_node)\n",
    "        current_node.previous_node = current_node\n",
    "        current_node.next_node = new_node\n",
    "        self.tail = new_node\n",
    "        self.length += 1\n",
    "    \n",
    "    def prepend(self, value):\n",
    "        current_node = self.head\n",
    "        current_node.previous_node = current_node\n",
    "        new_node = DoublyLinkedListNode(value, None)\n",
    "        new_node.next_node = current_node\n",
    "        self.head = new_node\n",
    "        self.length += 1\n",
    "        \n",
    "    def insert(self, index, value):\n",
    "        if index <= 0:\n",
    "            self.prepend(value)         \n",
    "        elif index >= self.length:\n",
    "            self.append(value)\n",
    "        else:\n",
    "            current_node = self.head\n",
    "            previous_node = None\n",
    "            for i in range(index):\n",
    "                print(self.head)\n",
    "                previous_node = current_node\n",
    "                current_node = current_node.next_node\n",
    "            new_node = DoublyLinkedListNode(value, previous_node)\n",
    "            new_node.next_node = current_node\n",
    "            previous_node.next_node = new_node\n",
    "            current_node.previous_node = new_node\n",
    "            self.length += 1\n",
    "            \n",
    "    def delete(self, index):\n",
    "        self.length -= 1\n",
    "        if index <= 0:\n",
    "            self.head = self.head.next_node            \n",
    "        else:\n",
    "            current_node = self.head\n",
    "            previous_node = None\n",
    "            if index >= self.length:\n",
    "                index = self.length - 1\n",
    "                for i in range(index):\n",
    "                    previous_node = current_node\n",
    "                    current_node = current_node.next_node\n",
    "                previous_node.next_node = None\n",
    "            else:\n",
    "                for i in range(index):\n",
    "                    previous_node = current_node\n",
    "                    current_node = current_node.next_node\n",
    "                previous_node.next_node = current_node.next_node\n",
    "                current_node.next_node.previous_node = previous_node\n",
    "        \n",
    "    def __repr__(self):\n",
    "        linked_list = []\n",
    "        current_node = self.head\n",
    "        while current_node != None:\n",
    "            linked_list.append(current_node.value)\n",
    "            current_node = current_node.next_node\n",
    "        return str(linked_list)\n",
    "\n",
    "doubly_linked_list = DoublyLinkedList(5)\n",
    "doubly_linked_list.append(200)\n",
    "doubly_linked_list.append(400)\n",
    "doubly_linked_list.prepend(400)\n",
    "doubly_linked_list.prepend(500)\n",
    "doubly_linked_list.insert(1, 250)\n",
    "#doubly_linked_list.delete(1)\n",
    "print(doubly_linked_list)\n",
    "print(doubly_linked_list.head.next_node.next_node)"
   ]
  },
  {
   "cell_type": "markdown",
   "metadata": {},
   "source": [
    "## Stack (LinkedList Implementation)"
   ]
  },
  {
   "cell_type": "code",
   "execution_count": 249,
   "metadata": {},
   "outputs": [
    {
     "name": "stdout",
     "output_type": "stream",
     "text": [
      "None\n",
      "[]\n"
     ]
    }
   ],
   "source": [
    "class Node:\n",
    "    def __init__(self, value):\n",
    "        self.value = value\n",
    "        self.next_node = None\n",
    "    \n",
    "    def __repr__(self):\n",
    "        return str(self.value)\n",
    "    \n",
    "class Stack:\n",
    "    def __init__(self):\n",
    "        self.top = None\n",
    "        self.bottom = None\n",
    "        self.length = 0\n",
    "    \n",
    "    def peek(self):\n",
    "        return self.top\n",
    "    \n",
    "    def push(self, value):\n",
    "        new_item = Node(value)\n",
    "        if self.length > 0:\n",
    "            new_item.next_node = self.top\n",
    "            self.top = new_item\n",
    "        else:\n",
    "            self.top = new_item\n",
    "            self.bottom = new_item\n",
    "        self.length += 1\n",
    "    \n",
    "    def pop(self):\n",
    "        if self.length > 0:\n",
    "            last_node = self.top\n",
    "            self.top = self.top.next_node\n",
    "            self.length -= 1\n",
    "            if self.length == 0:\n",
    "                self.bottom = None\n",
    "            return last_node\n",
    "        else:\n",
    "            return None\n",
    "        \n",
    "    def __repr__(self):\n",
    "        linked_list = []\n",
    "        current_node = self.top\n",
    "        while current_node != None:\n",
    "            linked_list.append(current_node.value)\n",
    "            current_node = current_node.next_node\n",
    "        return str(linked_list)\n",
    "        \n",
    "stack = Stack()\n",
    "stack.push(5)\n",
    "stack.push(10)\n",
    "stack.push(20)\n",
    "stack.pop()\n",
    "stack.pop()\n",
    "stack.pop()\n",
    "print(stack.bottom)\n",
    "print(stack)"
   ]
  },
  {
   "cell_type": "markdown",
   "metadata": {},
   "source": [
    "## Stack (Array Implementation)"
   ]
  },
  {
   "cell_type": "code",
   "execution_count": 315,
   "metadata": {},
   "outputs": [
    {
     "name": "stdout",
     "output_type": "stream",
     "text": [
      "1\n",
      "[10]\n"
     ]
    }
   ],
   "source": [
    "class StackArray:\n",
    "    def __init__(self):\n",
    "        self.array = []\n",
    "        self.length = 0\n",
    "    \n",
    "    def peek(self):\n",
    "        return self.array[self.length - 1] if len(self.array) > 0 else None\n",
    "    \n",
    "    def push(self, value):\n",
    "        self.array.append(value)\n",
    "        self.length += 1\n",
    "        \n",
    "    def pop(self):\n",
    "        if self.length > 0:\n",
    "            self.length -= 1\n",
    "            return self.array.pop()\n",
    "        else:\n",
    "            return None\n",
    "        \n",
    "    def __repr__(self):\n",
    "        return str(self.array)\n",
    "    \n",
    "stack_array = StackArray()\n",
    "stack_array.push(10)\n",
    "stack_array.push(30)\n",
    "stack_array.push(40)\n",
    "stack_array.pop()\n",
    "stack_array.pop()\n",
    "print(stack_array)"
   ]
  },
  {
   "cell_type": "markdown",
   "metadata": {},
   "source": [
    "## Queue "
   ]
  },
  {
   "cell_type": "code",
   "execution_count": 295,
   "metadata": {},
   "outputs": [
    {
     "name": "stdout",
     "output_type": "stream",
     "text": [
      "[10, 20, 30]\n"
     ]
    }
   ],
   "source": [
    "class Node:\n",
    "    def __init__(self, value):\n",
    "        self.value = value\n",
    "        self.next_node = None\n",
    "    \n",
    "    def __repr__(self):\n",
    "        return str(self.value)\n",
    "    \n",
    "class Queue:\n",
    "    def __init__(self):\n",
    "        self.first = None\n",
    "        self.last = None\n",
    "        self.length = 0\n",
    "    \n",
    "    def peek(self):\n",
    "        return self.first\n",
    "    \n",
    "    def enqueue(self, value):\n",
    "        new_item = Node(value)\n",
    "        if self.length > 0:\n",
    "            current_node = self.first\n",
    "            previous_node = None\n",
    "            for i in range(self.length - 1):\n",
    "                previous_node = current_node\n",
    "                current_node = current_node.next_node\n",
    "            current_node.next_node = new_item\n",
    "        else:\n",
    "            self.first = new_item\n",
    "        self.last = new_item\n",
    "        self.length += 1\n",
    "    \n",
    "    def dequeue(self):\n",
    "        if self.length > 0:\n",
    "            last_node = self.first\n",
    "            self.first = self.first.next_node\n",
    "            self.length -= 1\n",
    "            if self.length == 0:\n",
    "                self.last = None\n",
    "            return last_node\n",
    "        else:\n",
    "            return None\n",
    "        \n",
    "    def __repr__(self):\n",
    "        linked_list = []\n",
    "        current_node = self.first\n",
    "        while current_node != None:\n",
    "            linked_list.append(current_node.value)\n",
    "            current_node = current_node.next_node\n",
    "        return str(linked_list)\n",
    "        \n",
    "queue = Queue()\n",
    "queue.enqueue(5)\n",
    "queue.enqueue(10)\n",
    "queue.enqueue(20)\n",
    "queue.enqueue(30)\n",
    "queue.dequeue()\n",
    "# queue.dequeue()\n",
    "# queue.dequeue()\n",
    "print(queue)"
   ]
  },
  {
   "cell_type": "markdown",
   "metadata": {},
   "source": [
    "## Binary Search Tree"
   ]
  },
  {
   "cell_type": "code",
   "execution_count": 347,
   "metadata": {},
   "outputs": [
    {
     "name": "stdout",
     "output_type": "stream",
     "text": [
      "{'value': 5, 'left': {'value': 4, 'left': {'value': 2, 'left': None, 'right': None}, 'right': None}, 'right': {'value': 10, 'left': None, 'right': None}}\n",
      "{'value': 5, 'left': 4, 'right': 10}\n"
     ]
    }
   ],
   "source": [
    "class Node:\n",
    "    def __init__(self, value):\n",
    "        self.value = value\n",
    "        self.left = None\n",
    "        self.right = None\n",
    "    \n",
    "    def __repr__(self):\n",
    "        return str({ 'value': self.value, 'left': self.left.value if self.left else None, 'right': self.right.value if self.right else None })\n",
    "\n",
    "class BinarySearchTree:\n",
    "    def __init__(self):\n",
    "        self.root = None\n",
    "        \n",
    "    def insert(self, new_node):\n",
    "        if self.root == None:\n",
    "            self.root = new_node\n",
    "        else:\n",
    "            traverse = True\n",
    "            current_node = self.root\n",
    "            while traverse:\n",
    "                if new_node.value > current_node.value:\n",
    "                    if current_node.right != None:\n",
    "                        current_node = current_node.right\n",
    "                    else:\n",
    "                        current_node.right = new_node\n",
    "                        traverse = False\n",
    "                elif new_node.value < current_node.value:\n",
    "                    if current_node.left != None:\n",
    "                        current_node = current_node.left\n",
    "                    else:\n",
    "                        current_node.left = new_node\n",
    "                        traverse = False\n",
    "                        \n",
    "    def lookup(self, value):\n",
    "        if self.root == None:\n",
    "            return None\n",
    "        else:\n",
    "            current_node = self.root\n",
    "            found = False\n",
    "            while found == False:\n",
    "                if value == current_node.value:\n",
    "                    found = True\n",
    "                    return current_node\n",
    "                elif value < current_node.value:\n",
    "                    if current_node.left != None:\n",
    "                        current_node = current_node.left\n",
    "                    else:\n",
    "                        break\n",
    "                elif value > current_node.value:\n",
    "                    if current_node.right != None:\n",
    "                        current_node = current_node.right\n",
    "                    else:\n",
    "                        break\n",
    "            return None\n",
    "    \n",
    "    def traverse(self, node):\n",
    "        tree = { 'value': node.value }\n",
    "        tree['left'] = self.traverse(node.left) if node.left != None else None\n",
    "        tree['right'] = self.traverse(node.right) if node.right != None else None\n",
    "        return tree\n",
    "\n",
    "bst = BinarySearchTree()\n",
    "new_node_1 = Node(5)\n",
    "bst.insert(new_node_1)\n",
    "new_node_2 = Node(10)\n",
    "bst.insert(new_node_2)\n",
    "new_node_3 = Node(4)\n",
    "bst.insert(new_node_3)\n",
    "new_node_4 = Node(2)\n",
    "bst.insert(new_node_4)\n",
    "print(bst.traverse(new_node_1))\n",
    "print(bst.lookup(5))"
   ]
  },
  {
   "cell_type": "markdown",
   "metadata": {},
   "source": [
    "## Graphs"
   ]
  },
  {
   "cell_type": "code",
   "execution_count": 357,
   "metadata": {},
   "outputs": [
    {
     "name": "stdout",
     "output_type": "stream",
     "text": [
      "{5: [10, 8], 10: [5], 8: [5]}\n"
     ]
    }
   ],
   "source": [
    "class Node:\n",
    "    def __init__(self, value):\n",
    "        self.value = value\n",
    "    \n",
    "    def __repr__(self):\n",
    "        return str(self.value)\n",
    "\n",
    "class Graph:\n",
    "    def __init__(self):\n",
    "        self.number_nodes = 0\n",
    "        self.adjacent_list = {}\n",
    "    \n",
    "    def add_vertex(self, node):\n",
    "        self.adjacent_list[node.value] = []\n",
    "        self.number_nodes += 1\n",
    "        \n",
    "    def add_edge(self, node1, node2):\n",
    "        self.adjacent_list[node1.value].append(node2.value)\n",
    "        self.adjacent_list[node2.value].append(node1.value)\n",
    "        \n",
    "    def show_connections(self):\n",
    "        return self.adjacent_list\n",
    "    \n",
    "graph = Graph()\n",
    "node1 = Node(5)\n",
    "graph.add_vertex(node1)\n",
    "node2 = Node(10)\n",
    "graph.add_vertex(node2)\n",
    "graph.add_edge(node1, node2)\n",
    "node3 = Node(8)\n",
    "graph.add_vertex(node3)\n",
    "graph.add_edge(node1, node3)\n",
    "print(graph.show_connections())"
   ]
  },
  {
   "cell_type": "markdown",
   "metadata": {},
   "source": [
    "# Algorithms"
   ]
  },
  {
   "cell_type": "markdown",
   "metadata": {},
   "source": [
    "## Recursion"
   ]
  },
  {
   "cell_type": "code",
   "execution_count": 366,
   "metadata": {},
   "outputs": [
    {
     "name": "stdout",
     "output_type": "stream",
     "text": [
      "120\n",
      "120\n"
     ]
    }
   ],
   "source": [
    "## Time complexity of both functions: O(n)\n",
    "\n",
    "def findFactorialRecursive(number):\n",
    "    if number == 2:\n",
    "        return 2\n",
    "    else:\n",
    "        return number * findFactorialRecursive(number - 1)\n",
    "    \n",
    "def findFactorialIterative(number):\n",
    "    factorial_result = 1\n",
    "    for i in range(2, number + 1):\n",
    "        factorial_result = factorial_result * i\n",
    "    return factorial_result\n",
    "\n",
    "print(findFactorialRecursive(5))\n",
    "print(findFactorialIterative(5))"
   ]
  },
  {
   "cell_type": "markdown",
   "metadata": {},
   "source": [
    "## Fibonacci"
   ]
  },
  {
   "cell_type": "code",
   "execution_count": 397,
   "metadata": {},
   "outputs": [
    {
     "name": "stdout",
     "output_type": "stream",
     "text": [
      "34\n",
      "34\n"
     ]
    }
   ],
   "source": [
    "def fibonacciIterative(n):\n",
    "    if n == 0:\n",
    "        sum_num = 0\n",
    "    elif n == 1:\n",
    "        sum_num = 1\n",
    "    else:\n",
    "        current_num_1 = 0\n",
    "        current_num_2 = 1\n",
    "        sum_num = current_num_1 + current_num_2\n",
    "        for i in range(n - 2):\n",
    "            current_num_1 = current_num_2\n",
    "            current_num_2 = sum_num\n",
    "            sum_num = current_num_1 + current_num_2\n",
    "    return sum_num\n",
    "\n",
    "def fibonacciRecursive(n):\n",
    "    if n == 0:\n",
    "        return 0\n",
    "    elif n == 1:\n",
    "        return 1\n",
    "    else:\n",
    "        return fibonacciRecursive(n - 2) + fibonacciRecursive(n - 1)\n",
    "\n",
    "print(fibonacciIterative(9))\n",
    "print(fibonacciRecursive(9))"
   ]
  },
  {
   "cell_type": "markdown",
   "metadata": {},
   "source": [
    "## Bubble Sort"
   ]
  },
  {
   "cell_type": "code",
   "execution_count": 404,
   "metadata": {},
   "outputs": [
    {
     "name": "stdout",
     "output_type": "stream",
     "text": [
      "[0, 1, 2, 4, 5, 6, 44, 63, 87, 99, 283]\n",
      "[0, 1, 2, 4, 5, 6, 44, 63, 87, 99, 283]\n"
     ]
    }
   ],
   "source": [
    "unsorted_list = [6, 5, 1, 8, 7, 2, 4]\n",
    "unsorted_list_2 = [99, 44, 6, 2, 1, 5, 63, 87, 283, 4, 0]\n",
    "\n",
    "def bubble_sort_while(unsorted_list):\n",
    "    bubble_sorting = True\n",
    "    while bubble_sorting:\n",
    "        old_unsorted_list = unsorted_list.copy()\n",
    "        for i in range(0, len(unsorted_list) - 1):\n",
    "            if unsorted_list[i] > unsorted_list[i + 1]:\n",
    "                item = unsorted_list[i]\n",
    "                unsorted_list[i] = unsorted_list[i + 1]\n",
    "                unsorted_list[i + 1] = item\n",
    "        if old_unsorted_list == unsorted_list:\n",
    "            bubble_sorting = False\n",
    "    return unsorted_list\n",
    "\n",
    "def bubble_sort_for(unsorted_list):\n",
    "    bubble_sorting = True\n",
    "    for j in range(0, len(unsorted_list) - 1):\n",
    "        for i in range(0, len(unsorted_list) - 1):\n",
    "            if unsorted_list[i] > unsorted_list[i + 1]:\n",
    "                item = unsorted_list[i]\n",
    "                unsorted_list[i] = unsorted_list[i + 1]\n",
    "                unsorted_list[i + 1] = item\n",
    "    return unsorted_list\n",
    "print(bubble_sort_while(unsorted_list_2))\n",
    "print(bubble_sort_for(unsorted_list_2))"
   ]
  },
  {
   "cell_type": "markdown",
   "metadata": {},
   "source": [
    "## Selection Sort"
   ]
  },
  {
   "cell_type": "code",
   "execution_count": 408,
   "metadata": {},
   "outputs": [
    {
     "name": "stdout",
     "output_type": "stream",
     "text": [
      "[0, 1, 2, 4, 5, 6, 44, 63, 87, 99, 283]\n"
     ]
    }
   ],
   "source": [
    "unsorted_list = [6, 5, 1, 8, 7, 2, 4]\n",
    "unsorted_list_2 = [99, 44, 6, 2, 1, 5, 63, 87, 283, 4, 0]\n",
    "\n",
    "def selection_sort(unsorted_list):\n",
    "    for j in range(len(unsorted_list)):\n",
    "        smallest_number = unsorted_list[j]\n",
    "        for i in range(j, len(unsorted_list)):\n",
    "            if unsorted_list[i] < smallest_number:\n",
    "                smallest_number = unsorted_list[i]\n",
    "        smallest_number_index = unsorted_list.index(smallest_number)\n",
    "        unsorted_list[smallest_number_index] = unsorted_list[j]\n",
    "        unsorted_list[j] = smallest_number\n",
    "    return unsorted_list\n",
    "\n",
    "print(selection_sort(unsorted_list_2))"
   ]
  },
  {
   "cell_type": "markdown",
   "metadata": {},
   "source": [
    "## Insertion Sort"
   ]
  },
  {
   "cell_type": "code",
   "execution_count": 448,
   "metadata": {},
   "outputs": [
    {
     "name": "stdout",
     "output_type": "stream",
     "text": [
      "[6]\n",
      "[6]\n",
      "1\n",
      "[5, 6]\n",
      "[5, 6]\n",
      "2\n",
      "[1, 5, 6]\n",
      "[1, 5, 6]\n",
      "3\n",
      "[1, 5, 6]\n",
      "3\n",
      "[1, 5, 6]\n",
      "3\n",
      "[1, 5, 6, 8]\n",
      "[1, 5, 6, 8]\n",
      "4\n",
      "[1, 5, 6, 8]\n",
      "4\n",
      "[1, 5, 6, 8]\n",
      "4\n",
      "[1, 5, 6, 7, 8]\n",
      "[1, 5, 6, 7, 8]\n",
      "5\n",
      "[1, 2, 5, 6, 7, 8]\n",
      "[1, 2, 5, 6, 7, 8]\n",
      "6\n",
      "[1, 2, 5, 6, 7, 8]\n",
      "6\n",
      "[1, 2, 4, 5, 6, 7, 8]\n"
     ]
    }
   ],
   "source": [
    "unsorted_list = [6, 5, 1, 8, 7, 2, 4]\n",
    "unsorted_list_2 = [99, 44, 6, 2, 1, 5, 63, 87, 283, 4, 0]\n",
    "\n",
    "def insertion_sort(unsorted_list):\n",
    "    sorted_list = [unsorted_list[0]]\n",
    "    for i in range(1, len(unsorted_list)):\n",
    "        element = unsorted_list[i]\n",
    "        print(sorted_list)\n",
    "        for j in range(0, i):\n",
    "            # ie. End of array\n",
    "            if element > sorted_list[j] and (len(sorted_list) == j + 1):\n",
    "                sorted_list.insert(j + 1, element)\n",
    "                break\n",
    "            # ie. Beginning of array\n",
    "            elif element < sorted_list[j] and j == 0:\n",
    "                sorted_list.insert(0, element)\n",
    "                break\n",
    "            elif element > sorted_list[j] and element < sorted_list[j + 1]:\n",
    "                sorted_list.insert(j + 1, element)\n",
    "                break\n",
    "    return sorted_list\n",
    "\n",
    "print(insertion_sort(unsorted_list))"
   ]
  },
  {
   "cell_type": "markdown",
   "metadata": {},
   "source": [
    "## Merge Sort"
   ]
  },
  {
   "cell_type": "code",
   "execution_count": 454,
   "metadata": {},
   "outputs": [
    {
     "name": "stdout",
     "output_type": "stream",
     "text": [
      "[0, 1, 2, 4, 5, 6, 44, 63, 87, 99, 283]\n"
     ]
    }
   ],
   "source": [
    "def merge_sort(array):\n",
    "    if len(array) == 1:\n",
    "        return array\n",
    "    \n",
    "    middle_index = int(len(array) // 2)\n",
    "    left = array[0:middle_index]\n",
    "    right = array[middle_index:]\n",
    "    return merge(merge_sort(left), merge_sort(right))\n",
    "\n",
    "def merge(left, right):\n",
    "    sorted_array = []\n",
    "    left_pointer = 0\n",
    "    right_pointer = 0\n",
    "    while len(sorted_array) < (len(left) + len(right)):\n",
    "        # ie. Once we have sorted all the left array elements\n",
    "        if left_pointer == len(left):\n",
    "            sorted_array.append(right[right_pointer])\n",
    "            right_pointer += 1\n",
    "        # ie. Once we have sorted all the right array elements\n",
    "        elif right_pointer == len(right):\n",
    "            sorted_array.append(left[left_pointer])\n",
    "            left_pointer += 1\n",
    "        else:\n",
    "            if left[left_pointer] <= right[right_pointer]:\n",
    "                sorted_array.append(left[left_pointer])\n",
    "                left_pointer += 1\n",
    "            else:\n",
    "                sorted_array.append(right[right_pointer])\n",
    "                right_pointer += 1\n",
    "    return sorted_array\n",
    "\n",
    "unsorted_list = [6, 5, 1, 8, 7, 2, 4]\n",
    "unsorted_list_2 = [99, 44, 6, 2, 1, 5, 63, 87, 283, 4, 0]\n",
    "print(merge_sort(unsorted_list_2))"
   ]
  },
  {
   "cell_type": "markdown",
   "metadata": {},
   "source": [
    "## Breadth-First Search & Depth-First Search"
   ]
  },
  {
   "cell_type": "code",
   "execution_count": 472,
   "metadata": {},
   "outputs": [
    {
     "name": "stdout",
     "output_type": "stream",
     "text": [
      "{'value': 9, 'left': {'value': 4, 'left': {'value': 1, 'left': None, 'right': None}, 'right': {'value': 6, 'left': None, 'right': None}}, 'right': {'value': 20, 'left': {'value': 15, 'left': None, 'right': None}, 'right': {'value': 170, 'left': None, 'right': None}}}\n",
      "[1, 4, 6, 9, 15, 20, 170]\n",
      "[1, 4, 6, 15, 20, 170, 9]\n",
      "[9, 4, 1, 6, 20, 15, 170]\n"
     ]
    }
   ],
   "source": [
    "class Node:\n",
    "    def __init__(self, value):\n",
    "        self.value = value\n",
    "        self.left = None\n",
    "        self.right = None\n",
    "    \n",
    "    def __repr__(self):\n",
    "        # return str(self.value)\n",
    "        return str({ 'value': self.value, 'left': self.left.value if self.left else None, 'right': self.right.value if self.right else None })\n",
    "\n",
    "class BinarySearchTree:\n",
    "    def __init__(self):\n",
    "        self.root = None\n",
    "        \n",
    "    def insert(self, new_node):\n",
    "        if self.root == None:\n",
    "            self.root = new_node\n",
    "        else:\n",
    "            traverse = True\n",
    "            current_node = self.root\n",
    "            while traverse:\n",
    "                if new_node.value > current_node.value:\n",
    "                    if current_node.right != None:\n",
    "                        current_node = current_node.right\n",
    "                    else:\n",
    "                        current_node.right = new_node\n",
    "                        traverse = False\n",
    "                elif new_node.value < current_node.value:\n",
    "                    if current_node.left != None:\n",
    "                        current_node = current_node.left\n",
    "                    else:\n",
    "                        current_node.left = new_node\n",
    "                        traverse = False\n",
    "                        \n",
    "    def breadth_first_search(self):\n",
    "        traversal_order = []\n",
    "        queue = [self.root]\n",
    "        \n",
    "        while len(queue) > 0:\n",
    "            print(queue)\n",
    "            current_node = queue.pop(0)\n",
    "            traversal_order.append(current_node.value)\n",
    "            if current_node.left:\n",
    "                queue.append(current_node.left)\n",
    "            if current_node.right:\n",
    "                queue.append(current_node.right)\n",
    "        return traversal_order\n",
    "    \n",
    "    def dfs_inorder(self):\n",
    "        return self.traverse_in_order(self.root, [])\n",
    "    \n",
    "    def traverse_in_order(self, node, sort_list):\n",
    "        if node.left:\n",
    "            self.traverse_in_order(node.left, sort_list)\n",
    "        sort_list.append(node.value)\n",
    "        if node.right:\n",
    "            self.traverse_in_order(node.right, sort_list)\n",
    "        return sort_list\n",
    "    \n",
    "    def dfs_postorder(self):\n",
    "        return self.traverse_post_order(self.root, [])\n",
    "    \n",
    "    def traverse_post_order(self, node, sort_list):\n",
    "        if node.left:\n",
    "            self.traverse_in_order(node.left, sort_list)\n",
    "        if node.right:\n",
    "            self.traverse_in_order(node.right, sort_list)\n",
    "        sort_list.append(node.value)\n",
    "        return sort_list\n",
    "    \n",
    "    def dfs_preorder(self):\n",
    "        return self.traverse_pre_order(self.root, [])\n",
    "    \n",
    "    def traverse_pre_order(self, node, sort_list):\n",
    "        sort_list.append(node.value)\n",
    "        if node.left:\n",
    "            self.traverse_pre_order(node.left, sort_list)\n",
    "        if node.right:\n",
    "            self.traverse_pre_order(node.right, sort_list)\n",
    "        return sort_list\n",
    "    \n",
    "    def traverse(self, node):\n",
    "        tree = { 'value': node.value }\n",
    "        tree['left'] = self.traverse(node.left) if node.left != None else None\n",
    "        tree['right'] = self.traverse(node.right) if node.right != None else None\n",
    "        return tree\n",
    "\n",
    "bst = BinarySearchTree()\n",
    "new_node_1 = Node(9)\n",
    "bst.insert(new_node_1)\n",
    "new_node_2 = Node(4)\n",
    "bst.insert(new_node_2)\n",
    "new_node_3 = Node(20)\n",
    "bst.insert(new_node_3)\n",
    "new_node_4 = Node(1)\n",
    "bst.insert(new_node_4)\n",
    "new_node_5 = Node(6)\n",
    "bst.insert(new_node_5)\n",
    "new_node_6 = Node(15)\n",
    "bst.insert(new_node_6)\n",
    "new_node_7 = Node(170)\n",
    "bst.insert(new_node_7)\n",
    "print(bst.traverse(new_node_1))\n",
    "print(bst.dfs_inorder())\n",
    "print(bst.dfs_postorder())\n",
    "print(bst.dfs_preorder())"
   ]
  },
  {
   "cell_type": "markdown",
   "metadata": {},
   "source": [
    "## Dynamic Programming"
   ]
  },
  {
   "cell_type": "code",
   "execution_count": 500,
   "metadata": {},
   "outputs": [
    {
     "name": "stdout",
     "output_type": "stream",
     "text": [
      "{}\n",
      "{}\n",
      "{}\n",
      "{}\n",
      "{}\n",
      "{}\n",
      "{}\n",
      "{}\n",
      "{1: 1}\n",
      "{1: 1, 0: 0, 2: 1}\n",
      "{1: 1, 0: 0, 2: 1}\n",
      "{1: 1, 0: 0, 2: 1}\n",
      "{1: 1, 0: 0, 2: 1, 3: 2}\n",
      "{1: 1, 0: 0, 2: 1, 3: 2}\n",
      "{1: 1, 0: 0, 2: 1, 3: 2}\n",
      "{1: 1, 0: 0, 2: 1, 3: 2, 4: 3}\n",
      "{1: 1, 0: 0, 2: 1, 3: 2, 4: 3}\n",
      "{1: 1, 0: 0, 2: 1, 3: 2, 4: 3}\n",
      "{1: 1, 0: 0, 2: 1, 3: 2, 4: 3, 5: 5}\n",
      "{1: 1, 0: 0, 2: 1, 3: 2, 4: 3, 5: 5}\n",
      "{1: 1, 0: 0, 2: 1, 3: 2, 4: 3, 5: 5}\n",
      "{1: 1, 0: 0, 2: 1, 3: 2, 4: 3, 5: 5, 6: 8}\n",
      "{1: 1, 0: 0, 2: 1, 3: 2, 4: 3, 5: 5, 6: 8}\n",
      "{1: 1, 0: 0, 2: 1, 3: 2, 4: 3, 5: 5, 6: 8}\n",
      "{1: 1, 0: 0, 2: 1, 3: 2, 4: 3, 5: 5, 6: 8, 7: 13}\n",
      "{1: 1, 0: 0, 2: 1, 3: 2, 4: 3, 5: 5, 6: 8, 7: 13}\n",
      "{1: 1, 0: 0, 2: 1, 3: 2, 4: 3, 5: 5, 6: 8, 7: 13}\n",
      "{1: 1, 0: 0, 2: 1, 3: 2, 4: 3, 5: 5, 6: 8, 7: 13, 8: 21}\n",
      "{1: 1, 0: 0, 2: 1, 3: 2, 4: 3, 5: 5, 6: 8, 7: 13, 8: 21}\n",
      "21\n",
      "{1: 1, 0: 0, 2: 1, 3: 2, 4: 3, 5: 5, 6: 8, 7: 13, 8: 21}\n",
      "21\n"
     ]
    }
   ],
   "source": [
    "def dp_fibonacci():\n",
    "    memoised_fibonacci = {}\n",
    "    def fibonacci(n):\n",
    "        if n in memoised_fibonacci:\n",
    "            return memoised_fibonacci[n]\n",
    "        else:\n",
    "            if n <= 1:\n",
    "                memoised_fibonacci[n] = n\n",
    "                return n\n",
    "            else:\n",
    "                memoised_fibonacci[n] = fibonacci(n - 1) + fibonacci(n - 2)\n",
    "                return fibonacci(n - 1) + fibonacci(n - 2)\n",
    "    return fibonacci\n",
    "\n",
    "dp_fibonacci_func = dp_fibonacci()\n",
    "print(dp_fibonacci_func(8))\n",
    "print(dp_fibonacci_func(8))"
   ]
  },
  {
   "cell_type": "code",
   "execution_count": null,
   "metadata": {},
   "outputs": [],
   "source": []
  }
 ],
 "metadata": {
  "kernelspec": {
   "display_name": "Python 3",
   "language": "python",
   "name": "python3"
  },
  "language_info": {
   "codemirror_mode": {
    "name": "ipython",
    "version": 3
   },
   "file_extension": ".py",
   "mimetype": "text/x-python",
   "name": "python",
   "nbconvert_exporter": "python",
   "pygments_lexer": "ipython3",
   "version": "3.9.1"
  }
 },
 "nbformat": 4,
 "nbformat_minor": 4
}
